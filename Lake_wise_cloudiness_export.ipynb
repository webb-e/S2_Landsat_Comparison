{
  "nbformat": 4,
  "nbformat_minor": 0,
  "metadata": {
    "colab": {
      "provenance": [],
      "authorship_tag": "ABX9TyMou4G2KaQSQcl60LQhh04f",
      "include_colab_link": true
    },
    "kernelspec": {
      "name": "python3",
      "display_name": "Python 3"
    },
    "language_info": {
      "name": "python"
    }
  },
  "cells": [
    {
      "cell_type": "markdown",
      "metadata": {
        "id": "view-in-github",
        "colab_type": "text"
      },
      "source": [
        "<a href=\"https://colab.research.google.com/github/webb-e/S2_Landsat_Comparison/blob/main/Lake_wise_cloudiness_export.ipynb\" target=\"_parent\"><img src=\"https://colab.research.google.com/assets/colab-badge.svg\" alt=\"Open In Colab\"/></a>"
      ]
    },
    {
      "cell_type": "code",
      "execution_count": null,
      "metadata": {
        "colab": {
          "base_uri": "https://localhost:8080/"
        },
        "id": "1optpd03mwV9",
        "outputId": "a5ff1645-f835-4470-87a4-7f00c9a2716a"
      },
      "outputs": [
        {
          "output_type": "stream",
          "name": "stdout",
          "text": [
            "Mounted at /content/drive\n"
          ]
        }
      ],
      "source": [
        "# Authenticate private account (only required for exporting to drive/gee/gcp)\n",
        "from google.colab import auth\n",
        "auth.authenticate_user()\n",
        "\n",
        "# Earth Engine setup\n",
        "import ee # Trigger the authentication flow.\n",
        "ee.Authenticate()\n",
        "ee.Initialize(project=\" \") # Initialize the library.\n",
        "\n",
        "# Google Drive setup\n",
        "from google.colab import drive\n",
        "drive.mount('/content/drive')"
      ]
    },
    {
      "cell_type": "code",
      "source": [
        "### Load in S2 collection\n",
        "assetList = ee.data.listAssets('projects/alpod-412314/assets/S2_annual')['assets']\n",
        "imgs = ee.ImageCollection.fromImages([ee.Image(asset['id']) for asset in assetList])\n",
        "\n",
        "### define region info\n",
        "lakeshp = None\n",
        "region_label = None\n",
        "def regionfun(region):\n",
        "  global  lakeshp, region_label\n",
        "  if region == 'TUK':\n",
        "    lakeshp = ee.FeatureCollection(\"projects/alpod-412314/assets/Lake_extractions/TUK_extraction\")\n",
        "    region_label = 'TUK'\n",
        "  elif region == 'AND':\n",
        "    lakeshp = ee.FeatureCollection(\"projects/alpod-412314/assets/Lake_extractions/AND_extraction\")\n",
        "    region_label = 'AND'\n",
        "  elif region == 'MRD':\n",
        "    lakeshp = ee.FeatureCollection(\"projects/alpod-412314/assets/Lake_extractions/MRD_extraction\")\n",
        "    region_label = 'MRD'\n",
        "  elif region == 'AKCP':\n",
        "    lakeshp = ee.FeatureCollection(\"projects/alpod-412314/assets/Lake_extractions/AKCP_extraction\")\n",
        "    region_label = 'AKCP'\n",
        "  elif region == 'YKD':\n",
        "    lakeshp = ee.FeatureCollection(\"projects/alpod-412314/assets/Lake_extractions/YKD_extraction\")\n",
        "    region_label = 'YKD'\n",
        "  elif region == 'YKF':\n",
        "    lakeshp = ee.FeatureCollection(\"projects/alpod-412314/assets/Lake_extractions/YKF_extraction\")\n",
        "    region_label = 'YKF'\n",
        "  else:\n",
        "    print(\"Invalid region\")\n",
        "\n"
      ],
      "metadata": {
        "colab": {
          "base_uri": "https://localhost:8080/"
        },
        "id": "_AgPRQ9fnfP3",
        "outputId": "a1abb251-4441-47c6-ef42-49fb63e10fef"
      },
      "execution_count": null,
      "outputs": [
        {
          "output_type": "stream",
          "name": "stdout",
          "text": [
            "6\n"
          ]
        }
      ]
    },
    {
      "cell_type": "code",
      "source": [
        "regionfun(\"AKCP\")\n",
        "def getClouds(image):\n",
        "##get image year\n",
        "  S2yr = ee.String(image.get('system:id'))\n",
        "  year = S2yr.split('_').get(2)\n",
        "## clip to unet shapefile and create a binary image\n",
        "  image = image.select('cloud_occurance')\n",
        "## sum water, masked, and total areas\n",
        "  reduceroutput = image.reduceRegions(collection =  lakeshp,\n",
        "                                              scale= 10,\n",
        "                                              reducer= ee.Reducer.mean())\n",
        "## add feature properties to  output and convert m2 to km2\n",
        "  def dealwithoutput(f):\n",
        "    sample_id = ee.String(f.get('system:index'))\n",
        "    parsedregion = sample_id.split('_').get(0)\n",
        "    cloudoccurance = ee.Number(f.get('mean'))\n",
        "    return f.set({  \"year\" :  year ,   \"cloudiness\": cloudoccurance})\n",
        "\n",
        "  answer = reduceroutput.map(dealwithoutput)\n",
        "  return answer\n",
        "\n",
        "S2_intermediate = imgs.map(getClouds)\n",
        "S2_results = ee.FeatureCollection(S2_intermediate).flatten()\n",
        "\n",
        "description = 'Lakewise_cloudiness_' + str(region_label)\n",
        "\n",
        "task = ee.batch.Export.table.toDrive(**{\n",
        "          'collection': S2_results,\n",
        "          'selectors': ['year', 'cloudiness','lake_id'],\n",
        "          'folder': 'Lakewise_csvs',\n",
        "          'description': description,\n",
        "          'fileFormat': 'CSV',\n",
        "    })\n",
        "task.start()"
      ],
      "metadata": {
        "id": "FCpNy6jze0Ub"
      },
      "execution_count": null,
      "outputs": []
    }
  ]
}