{
  "cells": [
    {
      "cell_type": "markdown",
      "metadata": {
        "id": "view-in-github",
        "colab_type": "text"
      },
      "source": [
        "<a href=\"https://colab.research.google.com/github/webb-e/S2_Landsat_Comparison/blob/main/S2_lake_wise_export.ipynb\" target=\"_parent\"><img src=\"https://colab.research.google.com/assets/colab-badge.svg\" alt=\"Open In Colab\"/></a>"
      ]
    },
    {
      "cell_type": "markdown",
      "source": [
        "This script extracts the water area within each lake objectfrom the weekly Sentinle-2 water product. It is set up to run seperately for each region.\n",
        "\n",
        "Written by Elizabeth Webb; last updated Aug 2024"
      ],
      "metadata": {
        "id": "kaGOhl325vTE"
      }
    },
    {
      "cell_type": "code",
      "execution_count": null,
      "metadata": {
        "id": "raErdXDCB-vO",
        "colab": {
          "base_uri": "https://localhost:8080/"
        },
        "outputId": "29b4e820-fbfc-4054-b4e6-70c1d16c0971"
      },
      "outputs": [
        {
          "output_type": "stream",
          "name": "stdout",
          "text": [
            "Mounted at /content/drive\n"
          ]
        }
      ],
      "source": [
        "# Authenticate private account (only required for exporting to drive/gee/gcp)\n",
        "from google.colab import auth\n",
        "auth.authenticate_user()\n",
        "\n",
        "# Earth Engine setup\n",
        "import ee # Trigger the authentication flow.\n",
        "ee.Authenticate()\n",
        "ee.Initialize(project=\" \") # Initialize the library.\n",
        "\n",
        "# Google Drive setup\n",
        "from google.colab import drive\n",
        "drive.mount('/content/drive')"
      ]
    },
    {
      "cell_type": "markdown",
      "source": [
        "Define variables for each region"
      ],
      "metadata": {
        "id": "FlYhKOsn5ag2"
      }
    },
    {
      "cell_type": "code",
      "source": [
        "lakeshp = None\n",
        "region_name = None\n",
        "region_label = None\n",
        "roi = None\n",
        "def regionfun(region):\n",
        "  global region_name, roi, lakeshp, region_label\n",
        "  if region == 'TUK':\n",
        "    lakeshp = ee.FeatureCollection(\"projects/alpod-412314/assets/Lake_extractions/TUK_extraction\")\n",
        "    region_name = 'TUK_MRD'\n",
        "    roi = ee.FeatureCollection(\"projects/ee-webbe/assets/ROIs/TUK_roi\")\n",
        "    region_label = 'TUK'\n",
        "  elif region == 'AND':\n",
        "    lakeshp = ee.FeatureCollection(\"projects/alpod-412314/assets/Lake_extractions/AND_extraction\")\n",
        "    region_name = 'TUK_MRD'\n",
        "    roi = ee.FeatureCollection(\"projects/ee-webbe/assets/ROIs/anderson_plain_roi\")\n",
        "    region_label = 'AND'\n",
        "  elif region == 'MRD':\n",
        "    lakeshp = ee.FeatureCollection(\"projects/alpod-412314/assets/Lake_extractions/MRD_extraction\")\n",
        "    region_name = 'TUK_MRD'\n",
        "    roi = ee.FeatureCollection(\"projects/ee-webbe/assets/ROIs/MRD_roi\")\n",
        "    region_label = 'MRD'\n",
        "  elif region == 'AKCP':\n",
        "    lakeshp = ee.FeatureCollection(\"projects/alpod-412314/assets/Lake_extractions/AKCP_extraction\")\n",
        "    region_name = 'AKCP'\n",
        "    roi = ee.FeatureCollection(\"projects/ee-webbe/assets/ROIs/coastalplain_roi\")\n",
        "    region_label = 'AKCP'\n",
        "  elif region == 'YKD':\n",
        "    lakeshp = ee.FeatureCollection(\"projects/alpod-412314/assets/Lake_extractions/YKD_extraction\")\n",
        "    region_name = 'YKD'\n",
        "    roi = ee.FeatureCollection(\"projects/ee-webbe/assets/ROIs/YKdelta_roi\")\n",
        "    region_label = 'YKD'\n",
        "  elif region == 'YKF':\n",
        "    lakeshp = ee.FeatureCollection(\"projects/alpod-412314/assets/Lake_extractions/YKF_extraction\")\n",
        "    region_name = 'YKF'\n",
        "    roi = ee.FeatureCollection(\"projects/ee-webbe/assets/ROIs/YKflats_roi\")\n",
        "    region_label = 'YKF'\n",
        "  else:\n",
        "    print(\"Invalid region\")"
      ],
      "metadata": {
        "id": "dbaAGH9_SCMv"
      },
      "execution_count": null,
      "outputs": []
    },
    {
      "cell_type": "markdown",
      "metadata": {
        "id": "2uS89XFHEUSZ"
      },
      "source": [
        "Specify region and extract lake areas"
      ]
    },
    {
      "cell_type": "code",
      "source": [
        "regionfun('YKD') # options = TUK, MRD, AND, AKCP, YKD, YKF\n",
        "\n",
        "assetList = ee.data.listAssets('projects/alpod-412314/assets/region_weekly')['assets']\n",
        "imgs = ee.ImageCollection.fromImages([ee.Image(asset['id']) for asset in assetList]).filter(ee.Filter.stringContains('system:id',region_name))#.filter(ee.Filter.stringContains('system:id','30'))\n",
        "aoi = ee.Geometry.MultiPolygon(roi.geometry().getInfo()['coordinates'])\n",
        "\n",
        "\n",
        "## ***PROPERTY EXTRACTION METHODS***\n",
        "\n",
        "def summarizewater(image):\n",
        "  ### prepare - get total area, masked area, and water area\n",
        "  waterimg = image.select('water_occurance_max').gt(0) # create a binary image\n",
        "  maskedimg = image.select('water_occurance_max').unmask(-1).eq(-1) # unmask and get binary image (masked/notmasked)\n",
        "  totalimg = image.select('water_occurance_max').unmask(-1).gte(-1)  # get total number of pixels in region\n",
        "  waterarea = waterimg.multiply(ee.Image.pixelArea()) # get area of water\n",
        "  maskedarea = maskedimg.multiply(ee.Image.pixelArea()) #get area of masked\n",
        "  totalarea = totalimg.multiply(ee.Image.pixelArea()) # total area\n",
        "  areaImage = waterarea.addBands(maskedarea).addBands(totalarea)\n",
        "  imgID = ee.String(image.get('system:id')).split('/').get(4)\n",
        "  if region_name == 'TUK_MRD':\n",
        "    week = ee.Number(ee.String(imgID).split('_').get(3))\n",
        "    year = ee.Number(ee.String(imgID).split('_').get(2))\n",
        "  else:\n",
        "    week = ee.Number(ee.String(imgID).split('_').get(2))\n",
        "    year = ee.Number(ee.String(imgID).split('_').get(1))\n",
        "  ### take lake area per lake\n",
        "  reduced = areaImage.reduceRegions(\n",
        "              reducer=ee.Reducer.sum().unweighted(),\n",
        "              collection=lakeshp,\n",
        "              scale=10)\n",
        "  def dealwithoutput(f):\n",
        "    waterarea = ee.Number(f.get('water_occurance_max'))#.toFloat()#.divide(1e6)\n",
        "    maskedarea = ee.Number(f.get('water_occurance_max_1'))#.divide(1e6).round()\n",
        "    totalarea = ee.Number(f.get('water_occurance_max_2'))#.divide(1e6).round()\n",
        "    unmaskedarea = totalarea.subtract(maskedarea)\n",
        "    permasked = maskedarea.divide(totalarea).multiply(100).round()\n",
        "    return f.set({ \"S2_water_m2\": waterarea, \"percent_masked\":permasked,'week': week, 'year': year })\n",
        "  ##add feature properties to  output\n",
        "  reduceroutput = reduced.map(dealwithoutput)\n",
        "  ## only return lakes where nothing is masked\n",
        "  answer = reduceroutput.filter(ee.Filter.eq('percent_masked', 0))\n",
        "  return answer\n",
        "\n",
        "summarized_lakes = imgs.map(summarizewater)\n",
        "lake_summary = ee.FeatureCollection(summarized_lakes).flatten()\n",
        "#print(lake_summary.first().getInfo())\n",
        "description = str(region_label) + '_lake_areas'\n",
        "\n",
        "task = ee.batch.Export.table.toDrive(**{\n",
        "        'collection': ee.FeatureCollection(lake_summary),\n",
        "        'description': description,\n",
        "        'fileFormat': 'CSV',\n",
        "        'folder': 'Lakewise_csvs',\n",
        "          'selectors': ['lake_id', 'S2_water_m2', 'area_km2', 'perim_km', 'n_lakes', 'region', 'week', 'year']\n",
        "  })\n",
        "task.start()"
      ],
      "metadata": {
        "id": "mr4FXYcQTgHu"
      },
      "execution_count": null,
      "outputs": []
    }
  ],
  "metadata": {
    "colab": {
      "provenance": [],
      "machine_shape": "hm",
      "include_colab_link": true
    },
    "kernelspec": {
      "display_name": "Python 3",
      "name": "python3"
    },
    "language_info": {
      "name": "python"
    }
  },
  "nbformat": 4,
  "nbformat_minor": 0
}
