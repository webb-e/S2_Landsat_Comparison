{
  "nbformat": 4,
  "nbformat_minor": 0,
  "metadata": {
    "colab": {
      "provenance": [],
      "authorship_tag": "ABX9TyMv1Dd+sD+EDLzHsrIPa5DM",
      "include_colab_link": true
    },
    "kernelspec": {
      "name": "python3",
      "display_name": "Python 3"
    },
    "language_info": {
      "name": "python"
    }
  },
  "cells": [
    {
      "cell_type": "markdown",
      "metadata": {
        "id": "view-in-github",
        "colab_type": "text"
      },
      "source": [
        "<a href=\"https://colab.research.google.com/github/webb-e/S2_Landsat_Comparison/blob/main/WeeklyMosaic.ipynb\" target=\"_parent\"><img src=\"https://colab.research.google.com/assets/colab-badge.svg\" alt=\"Open In Colab\"/></a>"
      ]
    },
    {
      "cell_type": "code",
      "execution_count": null,
      "metadata": {
        "id": "cS4Vc67RnCeW"
      },
      "outputs": [],
      "source": [
        "# Authenticate private account (only required for exporting to drive/gee/gcp)\n",
        "from google.colab import auth\n",
        "auth.authenticate_user()\n",
        "\n",
        "# Earth Engine setup\n",
        "import ee # Trigger the authentication flow.\n",
        "ee.Authenticate()\n",
        "ee.Initialize(project=\" \") # Initialize the library.\n",
        "\n",
        "import itertools"
      ]
    },
    {
      "cell_type": "code",
      "source": [
        "regionfolder = None\n",
        "region_name = None\n",
        "roi = None\n",
        "lakes = None\n",
        "def regionfun(region):\n",
        "  global regionfolder, region_name, roi, lakes\n",
        "  if region == 'TUK/MRD':\n",
        "    regionfolder = 'projects/alpod-412314/assets/TUK_MRD_weekly/'\n",
        "    region_name = 'TUK_MRD'\n",
        "    roi = ee.FeatureCollection(\"projects/ee-webbe/assets/ROIs/MRD_TUK_Anderson_aoi\")\n",
        "    lakes = ee.FeatureCollection(\"projects/alpod-412314/assets/just_lakes/justlakes_TUKMRDAND\")\n",
        "  elif region == 'AKCP':\n",
        "    regionfolder = 'projects/alpod-412314/assets/AKCP_weekly/'\n",
        "    region_name = 'AKCP'\n",
        "    roi = ee.FeatureCollection(\"projects/ee-webbe/assets/ROIs/coastalplain_roi\")\n",
        "    lakes = ee.FeatureCollection(\"projects/alpod-412314/assets/just_lakes/justlakes_AKCP\")\n",
        "  elif region == 'YKD':\n",
        "    regionfolder = 'projects/alpod-412314/assets/YKD_weekly/'\n",
        "    region_name = 'YKD'\n",
        "    roi = ee.FeatureCollection(\"projects/ee-webbe/assets/ROIs/YKdelta_roi\")\n",
        "    lakes = ee.FeatureCollection(\"projects/alpod-412314/assets/just_lakes/justlakes_YKD\")\n",
        "  elif region == 'YKF':\n",
        "    regionfolder = 'projects/alpod-412314/assets/YKF_weekly/'\n",
        "    region_name = 'YKF'\n",
        "    roi = ee.FeatureCollection(\"projects/ee-webbe/assets/ROIs/YKflats_roi\")\n",
        "    lakes = ee.FeatureCollection(\"projects/alpod-412314/assets/just_lakes/justlakes_YKF\")\n",
        "  else:\n",
        "    print(\"Invalid region\")\n"
      ],
      "metadata": {
        "id": "WhVv6iDY34u4"
      },
      "execution_count": null,
      "outputs": []
    },
    {
      "cell_type": "code",
      "source": [
        "regionfun('TUK/MRD') # options = TUK/MRD, AKCP, YKD, YKF\n",
        "\n",
        "## define function to remove bad tiles (i.e, tiles where water occurence is <50% of expected)\n",
        "def rmbadtiles(tile):\n",
        "    #####\n",
        "    #### FIRST: determine expected area of water and number of lakes\n",
        "    #####\n",
        "\n",
        "    ##Create a binary mask where the unmasked pixels are 1 and everything else is 0.\n",
        "    binaryMask = tile.mask().reduce(ee.Reducer.max());\n",
        "    ##sum unmaksed pixels within each lake\n",
        "    possiblewater = binaryMask.reduceRegions(\n",
        "          collection= lakes,\n",
        "          reducer= ee.Reducer.sum(),\n",
        "          scale= 10 )\n",
        "    ## filter out lakes that are masked (i.e., sum = 0)\n",
        "    lakesintile = possiblewater.filter(ee.Filter.gt('sum', 0))\n",
        "    ## expected area of water within each unmasked lake\n",
        "    expectedwater = lakesintile.aggregate_sum('area_km2')\n",
        "    ## possible number of lakes\n",
        "  #  possiblelakes = ee.FeatureCollection(lakesintile).size()\n",
        "\n",
        "    #####\n",
        "    #### SECOND: determine observed area of water and number of lakes\n",
        "    #####\n",
        "    ## Replace masked values with 1\n",
        "    not_masked_img = tile.unmask(1);\n",
        "    ## Get only values with 1 and clip to unmasked lakes\n",
        "    waterinimage = not_masked_img.updateMask(not_masked_img.eq(1))\n",
        "    areawaterinimage = ee.Image.pixelArea().multiply(waterinimage).clipToCollection(lakesintile)\n",
        "    ## get the observed area of water pixels\n",
        "    obswater = areawaterinimage.reduceRegion(\n",
        "        reducer = ee.Reducer.sum(),\n",
        "        geometry= tile.geometry(),\n",
        "        scale= 10,\n",
        "        maxPixels=1e12)\n",
        "    ##convert to km2\n",
        "    observedwater = ee.Number(obswater.get('area')).divide(1e6);\n",
        "    ## get the observed number of water pixels within unmasked lakes\n",
        "    observedlakewater = waterinimage.reduceRegions(\n",
        "          collection= lakesintile,\n",
        "          reducer= ee.Reducer.sum(),\n",
        "          scale= 10 )\n",
        "    ## get number of lakes\n",
        "   # observedlakes = ee.FeatureCollection(observedlakewater.filter(ee.Filter.gt('sum', 0))).size()\n",
        "\n",
        "  #####\n",
        "  #### THIRD: calculate the ratio of observed:expected\n",
        "  #####\n",
        "    area_ratio = observedwater.divide(expectedwater)\n",
        "   # lake_ratio = ee.Number(observedlakes).divide(ee.Number(possiblelakes))\n",
        "    ### if the image has <50% of expected water or <30% of expected lakes, delete image\n",
        "    cond1 = area_ratio.lte(0.5)\n",
        "   # cond2 = lake_ratio.lte(0.3)\n",
        "   # combinedCondition = cond1.Or(cond2)\n",
        "    return ee.Algorithms.If(cond1, tile.set('isNull', True), tile.set('isNull', False))\n",
        "\n",
        "### get list of all occurance images in the  region and filter for each week of each year\n",
        "assetList = ee.data.listAssets(regionfolder)['assets']\n",
        "imgs = ee.ImageCollection.fromImages([ee.Image(asset['id']) for asset in assetList])\n",
        "years = list(range(2016,2024))\n",
        "weeks = list(range(18,41))\n",
        "aoi = ee.Geometry.MultiPolygon(roi.geometry().getInfo()['coordinates'])\n",
        "for year, week in itertools.product(years, weeks):\n",
        "    year = str(year)\n",
        "    week = str(week)\n",
        "    filteredimgs = imgs.filter(ee.Filter.stringContains('system:id',year)).filter(ee.Filter.stringEndsWith('system:id',week))\n",
        "    ## remove bad images and take the max value\n",
        "    goodimgs = filteredimgs.map(rmbadtiles).filter(ee.Filter.eq('isNull', False))\n",
        "    max_image = goodimgs.reduce(ee.Reducer.max())\n",
        "    description = region_name + '_' + year + '_' + week\n",
        "    task = ee.batch.Export.image.toAsset(**{\n",
        "              'image': ee.Image(max_image),\n",
        "              'description': description,\n",
        "              'assetId': 'projects/alpod-412314/assets/region_weekly/' + description,\n",
        "              'scale': 10,\n",
        "              'region': aoi,\n",
        "              'maxPixels': 1e12,\n",
        "              })\n",
        "    task.start()\n",
        "    print(\"Image export \" +  description +  \" has started\")\n"
      ],
      "metadata": {
        "id": "Gb_gKCfhq9JX"
      },
      "execution_count": null,
      "outputs": []
    }
  ]
}